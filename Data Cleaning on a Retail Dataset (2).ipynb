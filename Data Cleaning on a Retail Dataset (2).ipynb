{
 "cells": [
  {
   "cell_type": "markdown",
   "id": "a501c9ed-6720-47bc-9bc2-6045be32b626",
   "metadata": {},
   "source": [
    "# Basic Data Cleaning on a Retail Dataset\n",
    "\n",
    "This notebook demonstrates basic cleaning techniques I will implement, such as...\n",
    "- Handling missing values\n",
    "- Removing duplicates\n",
    "- Converting data types when necessary"
   ]
  },
  {
   "cell_type": "markdown",
   "id": "b5a90c1f-175b-4369-a3a0-5ae4de30582b",
   "metadata": {},
   "source": [
    "For this project, I will be using a retail store sales dataset on Kaggle"
   ]
  },
  {
   "cell_type": "code",
   "execution_count": null,
   "id": "123d098f-bcec-42d9-851f-b2d74cea6e56",
   "metadata": {},
   "outputs": [],
   "source": [
    "import pandas as pd"
   ]
  },
  {
   "cell_type": "code",
   "execution_count": null,
   "id": "58a83aa2-3a52-4e75-93b8-52b1bd4dbb9c",
   "metadata": {},
   "outputs": [],
   "source": [
    "df = pd.read_csv(\"retail_store_sales.csv\")\n",
    "df.head()"
   ]
  },
  {
   "cell_type": "markdown",
   "id": "8b1311f1-5b1f-470e-8294-cd821402c94b",
   "metadata": {},
   "source": [
    "First, I will check the info and stats of this dataset..."
   ]
  },
  {
   "cell_type": "code",
   "execution_count": null,
   "id": "6b0eabeb-eff0-4ecf-af81-cd81c01dc576",
   "metadata": {},
   "outputs": [],
   "source": [
    "df.info()"
   ]
  },
  {
   "cell_type": "markdown",
   "id": "767ce15d-9fa1-49e7-a932-42bc2bda69e1",
   "metadata": {},
   "source": [
    "From this info() command, I can infer that there are 12575 rows, but some columns don't have that many rows. For example, the columns Item, Price Per unit, Quantity, Total Spent, and Discount Applied have missing rows and therefore require cleaning. Another thing I noticed is that the Transaction Date is an object Dtype, but it should be a datetime for any time analysis. Additionally, Discount Applied is an object, but it should be a boolean, true or false."
   ]
  },
  {
   "cell_type": "markdown",
   "id": "51e7a058-74f4-43cf-abb8-b6f3f15693d8",
   "metadata": {},
   "source": [
    "First, I will look for any duplicate values and get rid of them "
   ]
  },
  {
   "cell_type": "code",
   "execution_count": null,
   "id": "f18753df-a409-48c7-b8a1-a1c044f4b30e",
   "metadata": {},
   "outputs": [],
   "source": [
    "#Here I am checking if there are any duplicates. It turns out that there aren't any duplicates, so I don't have to drop anything here.\n",
    "df.duplicated().sum()"
   ]
  },
  {
   "cell_type": "markdown",
   "id": "1d185906-8400-4415-a435-a2b0f71024c4",
   "metadata": {},
   "source": [
    "Next, I will fill in some missing values and get rid of others"
   ]
  },
  {
   "cell_type": "code",
   "execution_count": null,
   "id": "8305ba9a-6fe1-4e84-bd25-80938c360eba",
   "metadata": {},
   "outputs": [],
   "source": [
    "# I am going to assume that if there is no value for discount, then no discount was applied, and it's false.\n",
    "# I am also going to change the data type from object to boolean\n",
    "df[\"Discount Applied\"].fillna(False, inplace=True)\n",
    "df[\"Discount Applied\"] = df[\"Discount Applied\"].astype('bool')"
   ]
  },
  {
   "cell_type": "code",
   "execution_count": null,
   "id": "6972ed77-125b-4530-b77e-49c65ad5d632",
   "metadata": {},
   "outputs": [],
   "source": [
    "#Now I am going drop all rows that are missing values for Price Per unit, Quantity, and Total Spent, because I don't know that data.\n",
    "df.dropna(subset=[\"Price Per Unit\", \"Quantity\", \"Total Spent\"], inplace = True)"
   ]
  },
  {
   "cell_type": "code",
   "execution_count": null,
   "id": "aac66429-7345-4364-9a9a-a112158acb59",
   "metadata": {},
   "outputs": [],
   "source": [
    "#Finally, I am going to change Transaction Data from an object Dtype to a datetime Dtype\n",
    "df[\"Transaction Date\"] = pd.to_datetime(df[\"Transaction Date\"])"
   ]
  },
  {
   "cell_type": "code",
   "execution_count": null,
   "id": "b16a0b41-ab20-40c4-a2e1-4247e17c2d8f",
   "metadata": {},
   "outputs": [],
   "source": [
    "df.info()"
   ]
  },
  {
   "cell_type": "markdown",
   "id": "88c42f54-ceb6-480f-a82f-0e34f46354bd",
   "metadata": {},
   "source": [
    "Now with all the cleaning done, we can see that there are no longer any missing values, and the Transaction Date/Discount Applied columns have been given appropriate data types. Around 1000 rows of missing information were deleted, and many more were updated based on the assumption that if a discount wasn't recorded, then there was no discount.\n"
   ]
  }
 ],
 "metadata": {
  "kernelspec": {
   "display_name": "Python [conda env:base] *",
   "language": "python",
   "name": "conda-base-py"
  },
  "language_info": {
   "codemirror_mode": {
    "name": "ipython",
    "version": 3
   },
   "file_extension": ".py",
   "mimetype": "text/x-python",
   "name": "python",
   "nbconvert_exporter": "python",
   "pygments_lexer": "ipython3",
   "version": "3.13.5"
  }
 },
 "nbformat": 4,
 "nbformat_minor": 5
}
